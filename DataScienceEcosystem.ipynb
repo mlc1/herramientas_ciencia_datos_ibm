{
 "cells": [
  {
   "cell_type": "markdown",
   "metadata": {},
   "source": [
    "# Data Science Tools and Ecosystem"
   ]
  },
  {
   "cell_type": "markdown",
   "metadata": {},
   "source": [
    "In this notebook, Data Science Tools and Ecosystem are summarized."
   ]
  },
  {
   "cell_type": "markdown",
   "metadata": {},
   "source": [
    "\n",
    "### **Objectives:**\n",
    "\n",
    "- Summarize the Data Science tools and ecosystem.  \n",
    "- List popular programming languages used in Data Science.  \n",
    "- Identify commonly used libraries for Data Science.  \n",
    "- Explore tools for Data Visualization and Machine Learning.  \n",
    "- Demonstrate arithmetic expressions in Python.\n"
   ]
  },
  {
   "cell_type": "markdown",
   "metadata": {},
   "source": [
    "Some of the popular languages that Data Scientists use are:\n",
    "\n",
    "1. Python   \n",
    "\n",
    "2. R   \n",
    "\n",
    "3. SQL   \n",
    "\n",
    "4. Scala   \n",
    "\n",
    "5. Julia"
   ]
  },
  {
   "cell_type": "markdown",
   "metadata": {},
   "source": [
    "Some of the commonly used libraries used by Data Scientists include:   \n",
    "\n",
    "1. pandas  \n",
    "\n",
    "2. numpy   \n",
    "\n",
    "3. matplotlib   \n",
    "\n",
    "4. scikit-learn   \n",
    "\n",
    "5. dplyr   \n",
    "\n",
    "6. tidyr   \n",
    "\n",
    "7. ggplot2   \n",
    "\n",
    "8. caret\n",
    "\n"
   ]
  },
  {
   "cell_type": "markdown",
   "metadata": {},
   "source": [
    "| **Data Science Tools**        |\n",
    "|--------------------------------|\n",
    "| Jupyter Notebook              |\n",
    "| RStudio                       |\n",
    "| Apache Zeppelin               |\n"
   ]
  },
  {
   "cell_type": "markdown",
   "metadata": {},
   "source": [
    "### Below are a few examples of evaluating arithmetic expressions in Python"
   ]
  },
  {
   "cell_type": "code",
   "execution_count": 3,
   "metadata": {},
   "outputs": [
    {
     "name": "stdout",
     "output_type": "stream",
     "text": [
      "5 + 3 = 8\n",
      "10 - 4 = 6\n",
      "7 * 6 = 42\n",
      "15 / 3 = 5.0\n",
      "2 ** 3 = 8\n",
      "17 // 3 = 5\n"
     ]
    }
   ],
   "source": [
    "# Addition\n",
    "result = 5 + 3\n",
    "print(\"5 + 3 =\", result)\n",
    "\n",
    "# Subtraction\n",
    "result = 10 - 4\n",
    "print(\"10 - 4 =\", result)\n",
    "\n",
    "# Multiplication\n",
    "result = 7 * 6\n",
    "print(\"7 * 6 =\", result)\n",
    "\n",
    "# Division\n",
    "result = 15 / 3\n",
    "print(\"15 / 3 =\", result)\n",
    "\n",
    "# Exponentiation\n",
    "result = 2 ** 3\n",
    "print(\"2 ** 3 =\", result)\n",
    "\n",
    "# Floor Division\n",
    "result = 17 // 3\n",
    "print(\"17 // 3 =\", result)\n"
   ]
  },
  {
   "cell_type": "markdown",
   "metadata": {},
   "source": [
    "This a simple arithmetic expression to mutiply then add integers"
   ]
  },
  {
   "cell_type": "code",
   "execution_count": 3,
   "metadata": {},
   "outputs": [
    {
     "data": {
      "text/plain": [
       "17"
      ]
     },
     "execution_count": 3,
     "metadata": {},
     "output_type": "execute_result"
    }
   ],
   "source": [
    "(3*4) + 5"
   ]
  },
  {
   "cell_type": "markdown",
   "metadata": {},
   "source": [
    " This will convert 200 minutes to hours by diving by 60"
   ]
  },
  {
   "cell_type": "code",
   "execution_count": 2,
   "metadata": {},
   "outputs": [
    {
     "data": {
      "text/plain": [
       "3.3333333333333335"
      ]
     },
     "execution_count": 2,
     "metadata": {},
     "output_type": "execute_result"
    }
   ],
   "source": [
    "200/60"
   ]
  },
  {
   "cell_type": "markdown",
   "metadata": {},
   "source": [
    "## Author   \n",
    "\n",
    "Manuel Liébana "
   ]
  }
 ],
 "metadata": {
  "kernelspec": {
   "display_name": "sci",
   "language": "python",
   "name": "python3"
  },
  "language_info": {
   "codemirror_mode": {
    "name": "ipython",
    "version": 3
   },
   "file_extension": ".py",
   "mimetype": "text/x-python",
   "name": "python",
   "nbconvert_exporter": "python",
   "pygments_lexer": "ipython3",
   "version": "3.11.4"
  }
 },
 "nbformat": 4,
 "nbformat_minor": 2
}
